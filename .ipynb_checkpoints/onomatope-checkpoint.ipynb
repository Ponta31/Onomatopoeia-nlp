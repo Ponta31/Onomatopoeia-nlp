{
 "cells": [
  {
   "attachments": {},
   "cell_type": "markdown",
   "id": "b41933da-efe1-491b-8cac-06e1d8c104bc",
   "metadata": {},
   "source": [
    "Project Proposal: OPTION 2: Modeling Experiment"
   ]
  },
  {
   "attachments": {},
   "cell_type": "markdown",
   "id": "325ede6b-eaad-4801-a3f5-ad80fd96e1da",
   "metadata": {},
   "source": [
    "I am interested in creating a model which contribute to students in Japanese class to learn Japanese onomatopoeia since Japanese language is very rich with onomatopoeia. I would try creating a model that takes in text, and returns paraphrases of the text containing onomatopoeia equivalents."
   ]
  },
  {
   "cell_type": "code",
   "execution_count": null,
   "id": "9d7e3083-256b-4870-b197-802c5c8522cf",
   "metadata": {},
   "outputs": [],
   "source": []
  }
 ],
 "metadata": {
  "kernelspec": {
   "display_name": "Python 3 (ipykernel)",
   "language": "python",
   "name": "python3"
  },
  "language_info": {
   "codemirror_mode": {
    "name": "ipython",
    "version": 3
   },
   "file_extension": ".py",
   "mimetype": "text/x-python",
   "name": "python",
   "nbconvert_exporter": "python",
   "pygments_lexer": "ipython3",
   "version": "3.12.4"
  }
 },
 "nbformat": 4,
 "nbformat_minor": 5
}
